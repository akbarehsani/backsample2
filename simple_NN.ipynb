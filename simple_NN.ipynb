{
  "nbformat": 4,
  "nbformat_minor": 0,
  "metadata": {
    "colab": {
      "provenance": [],
      "authorship_tag": "ABX9TyOchJ/m9PzKOPTiC0snCJ3O",
      "include_colab_link": true
    },
    "kernelspec": {
      "name": "python3",
      "display_name": "Python 3"
    },
    "language_info": {
      "name": "python"
    }
  },
  "cells": [
    {
      "cell_type": "markdown",
      "metadata": {
        "id": "view-in-github",
        "colab_type": "text"
      },
      "source": [
        "<a href=\"https://colab.research.google.com/github/akbarehsani/backsample2/blob/master/simple_NN.ipynb\" target=\"_parent\"><img src=\"https://colab.research.google.com/assets/colab-badge.svg\" alt=\"Open In Colab\"/></a>"
      ]
    },
    {
      "cell_type": "code",
      "source": [
        "!pip install torch"
      ],
      "metadata": {
        "colab": {
          "base_uri": "https://localhost:8080/"
        },
        "id": "CGyc8EaXAI3a",
        "outputId": "9349f78c-9577-4eef-9226-b4a4f7f92527"
      },
      "execution_count": null,
      "outputs": [
        {
          "output_type": "stream",
          "name": "stdout",
          "text": [
            "Looking in indexes: https://pypi.org/simple, https://us-python.pkg.dev/colab-wheels/public/simple/\n",
            "Requirement already satisfied: torch in /usr/local/lib/python3.7/dist-packages (1.12.1+cu113)\n",
            "Requirement already satisfied: typing-extensions in /usr/local/lib/python3.7/dist-packages (from torch) (4.1.1)\n"
          ]
        }
      ]
    },
    {
      "cell_type": "code",
      "execution_count": null,
      "metadata": {
        "colab": {
          "base_uri": "https://localhost:8080/",
          "height": 282
        },
        "id": "WW49hfkX_i9y",
        "outputId": "ced74c07-e962-4f0b-f2fa-e231f90b3113"
      },
      "outputs": [
        {
          "output_type": "stream",
          "name": "stdout",
          "text": [
            "OrderedDict([('0.weight', tensor([[1.9584]])), ('0.bias', tensor([1.0215]))])\n"
          ]
        },
        {
          "output_type": "display_data",
          "data": {
            "text/plain": [
              "<Figure size 432x288 with 1 Axes>"
            ],
            "image/png": "[encoded data removed]"
          },
          "metadata": {
            "needs_background": "light"
          }
        }
      ],
      "source": [
        "import torch\n",
        "import torch.nn as nn\n",
        "from matplotlib import  pyplot as plt\n",
        "torch.random.manual_seed(42)\n",
        "x=torch.rand(100,1)\n",
        "y=1+2*x+.1*torch.randn(100,1)\n",
        "idx=torch.randperm(100)\n",
        "train_idx,val_idx=idx[:80],idx[80:]\n",
        "x_train=x[train_idx]\n",
        "y_train=y[train_idx]\n",
        "x_val=x[val_idx]\n",
        "y_val=y[val_idx]\n",
        "lr=1e-1\n",
        "lreg_model=nn.Sequential(\n",
        "    nn.Linear(1,1)\n",
        ")\n",
        "lreg_model.train()\n",
        "optimizer=torch.optim.SGD(lreg_model.parameters(),lr=lr)\n",
        "loss_fn=torch.nn.MSELoss()\n",
        "n_epochs=1000\n",
        "for epoch in range(n_epochs):\n",
        "   yhat=lreg_model(x_train)\n",
        "   loss=loss_fn(yhat,y_train)\n",
        "   loss.backward()\n",
        "   optimizer.step()\n",
        "   optimizer.zero_grad()\n",
        "print(lreg_model.state_dict())\n",
        "x_train=x_train.detach().numpy()\n",
        "# y=y.detach().numpy()\n",
        "plt.plot(x_val,y_val,'bo')\n",
        "yhat=lreg_model(x_val)\n",
        "yhat=yhat.detach().numpy()\n",
        "plt.plot(x_val,yhat,'g')\n",
        "plt.show()\n",
        "x=torch.rand(100,1)"
      ]
    }
  ]
}