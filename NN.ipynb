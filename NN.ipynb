{
  "nbformat": 4,
  "nbformat_minor": 0,
  "metadata": {
    "colab": {
      "provenance": [],
      "authorship_tag": "ABX9TyP07+fcyoVshcl/Mo8oKJmk",
      "include_colab_link": true
    },
    "kernelspec": {
      "name": "python3",
      "display_name": "Python 3"
    },
    "language_info": {
      "name": "python"
    }
  },
  "cells": [
    {
      "cell_type": "markdown",
      "metadata": {
        "id": "view-in-github",
        "colab_type": "text"
      },
      "source": [
        "<a href=\"https://colab.research.google.com/github/akbarehsani/backsample2/blob/master/NN.ipynb\" target=\"_parent\"><img src=\"https://colab.research.google.com/assets/colab-badge.svg\" alt=\"Open In Colab\"/></a>"
      ]
    },
    {
      "cell_type": "code",
      "execution_count": null,
      "metadata": {
        "colab": {
          "base_uri": "https://localhost:8080/"
        },
        "id": "zqpexle9oowo",
        "outputId": "ce039f42-c830-4a9b-9669-3eed7f69035a"
      },
      "outputs": [
        {
          "output_type": "stream",
          "name": "stdout",
          "text": [
            "nnetwork(\n",
            "  (hidden): Linear(in_features=10, out_features=30, bias=True)\n",
            "  (Sigmoid): Sigmoid()\n",
            "  (output): Linear(in_features=30, out_features=2, bias=True)\n",
            "  (softmax): Softmax(dim=1)\n",
            ")\n",
            "tensor([[-1.4488e+00,  2.2677e-01,  2.2374e+00, -2.5254e-01,  8.0016e-01,\n",
            "         -8.0019e-02, -7.2326e-01,  1.3599e-03, -8.8252e-01,  5.6458e-01],\n",
            "        [-8.6817e-02, -1.5361e+00,  7.7962e-01, -4.9917e-01,  7.2142e-01,\n",
            "          2.5007e-01,  1.2672e-01, -1.7902e+00,  1.6025e+00, -2.9660e-01],\n",
            "        [ 6.0163e-01, -8.7008e-01, -7.2727e-02,  1.0870e+00,  3.4670e-01,\n",
            "         -9.3385e-02, -6.4350e-01,  1.1373e+00, -9.9095e-01,  6.5823e-01],\n",
            "        [ 2.6175e+00, -3.2803e-01,  7.1338e-01, -2.1906e-01, -1.1668e+00,\n",
            "         -3.5572e-01,  8.2706e-01,  3.5014e-01,  1.7030e-01,  4.5380e-01],\n",
            "        [ 1.0969e+00,  4.9645e-01,  1.2349e+00,  3.7296e-01, -4.9694e-01,\n",
            "         -2.3795e-01,  4.1234e-01,  1.4126e+00, -1.1399e-02,  8.3243e-01],\n",
            "        [-1.1387e+00, -2.6162e-01, -9.6585e-01,  3.5972e-01, -1.9942e+00,\n",
            "          8.8746e-01,  4.3224e-02, -4.9981e-01, -1.3368e+00, -3.8976e-02],\n",
            "        [ 2.1112e+00, -3.9508e-01, -2.7153e-01, -8.4062e-01,  1.4285e+00,\n",
            "          1.7442e-02, -1.5081e-01, -1.4075e+00, -3.0318e-01, -9.4337e-01],\n",
            "        [-5.4360e-02,  1.5445e+00,  8.1142e-01, -2.1600e+00,  8.0965e-01,\n",
            "         -2.5046e-01,  6.0531e-03,  1.8884e+00, -1.1292e+00,  2.8868e-02],\n",
            "        [-9.6255e-02,  8.5645e-02,  8.4538e-01, -6.8626e-01, -5.9306e-01,\n",
            "         -4.3859e-01, -1.1844e-01, -1.3751e+00,  7.3474e-01, -1.8683e+00],\n",
            "        [ 9.6974e-01, -1.7049e+00,  9.8851e-01,  1.6809e+00, -1.3390e+00,\n",
            "         -1.1254e+00, -9.2246e-01, -7.4345e-01,  8.0626e-01, -1.6648e+00],\n",
            "        [ 1.2961e+00,  4.8528e-01,  1.1647e+00,  6.0485e-01, -1.1339e+00,\n",
            "         -1.3879e+00,  3.3352e-01,  6.9733e-01, -7.1784e-01,  5.8200e-01],\n",
            "        [ 9.2455e-01, -1.7864e+00, -1.6277e+00, -9.4290e-01,  6.9345e-01,\n",
            "          1.8400e+00, -4.4841e-01, -4.8773e-01,  9.5572e-01, -8.7988e-01],\n",
            "        [ 1.7297e+00, -1.6880e-01, -1.9390e-02,  6.3446e-03, -6.0105e-01,\n",
            "          7.0724e-01, -1.7834e+00, -6.8972e-01,  1.5307e-01, -1.2001e+00],\n",
            "        [ 1.9517e-01, -1.3571e+00, -8.6189e-01, -1.6190e+00, -1.7769e-01,\n",
            "         -1.9117e-01,  1.6471e-02, -3.8942e-01, -5.8988e-01, -5.1458e-01],\n",
            "        [-2.4349e+00,  9.2493e-01,  4.1663e-02,  5.5401e-01, -4.5166e-01,\n",
            "         -3.2973e-01,  9.5064e-01, -1.2745e+00, -1.8819e+00,  7.3682e-01],\n",
            "        [-2.2539e-01, -6.3115e-02,  7.0234e-02,  9.3979e-01, -2.6308e-01,\n",
            "          1.3540e-01,  1.1683e+00, -4.8771e-01,  1.5767e-01, -1.0525e+00],\n",
            "        [-8.6682e-01, -3.3462e-01, -3.5726e-01,  3.0648e-01,  1.2973e+00,\n",
            "         -7.4324e-01,  4.5361e-01, -1.3964e+00, -1.6537e+00,  4.3340e-01],\n",
            "        [ 3.6602e-01, -1.8575e+00, -6.2740e-01, -1.6914e+00, -1.7311e+00,\n",
            "         -4.9387e-01, -1.7973e-01,  6.1509e-01, -1.7756e+00,  2.9068e-01],\n",
            "        [ 6.4597e-01, -1.4462e-01, -3.3683e-02,  1.3293e+00,  1.4463e+00,\n",
            "         -5.4739e-01,  3.6292e-01, -6.4465e-01, -1.4275e+00, -1.5828e+00],\n",
            "        [-1.7357e+00, -1.4492e+00,  6.7482e-01, -1.8154e-01, -5.0713e-01,\n",
            "          1.0955e+00, -1.9416e+00, -2.0293e-01,  8.2205e-01,  1.0656e+00]])\n",
            "torch.Size([20, 2])\n"
          ]
        }
      ],
      "source": [
        "import torch\n",
        "import torch.nn as nn\n",
        "from matplotlib import  pyplot as plt\n",
        "\n",
        "\n",
        "class nnetwork(nn.Module):\n",
        "  def __init__(self,n_input,n_unit1,n_output):\n",
        "    super().__init__()\n",
        "    self.hidden=torch.nn.Linear(n_input,n_unit1)\n",
        "    self.Sigmoid=nn.Sigmoid()\n",
        "    self.output=nn.Linear(n_unit1,n_output)\n",
        "    self.softmax=nn.Softmax(dim=1)\n",
        "  def forward(self,x):\n",
        "    x=self.hidden(x)\n",
        "    x=self.Sigmoid(x)\n",
        "    x=self.output(x)\n",
        "    x=self.softmax(x)\n",
        "    return x\n",
        "nn_model=nnetwork(10,30,2)\n",
        "print(nn_model)\n",
        "\n",
        "x = torch.randn(20, 10)\n",
        "print(x)\n",
        "y = nn_model(x)\n",
        "print(y.shape)"
      ]
    }
  ]
}