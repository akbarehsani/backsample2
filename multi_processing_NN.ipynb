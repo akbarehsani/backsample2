{
  "nbformat": 4,
  "nbformat_minor": 0,
  "metadata": {
    "colab": {
      "provenance": [],
      "authorship_tag": "ABX9TyPsg68IYtKanVawSlJKQSC4",
      "include_colab_link": true
    },
    "kernelspec": {
      "name": "python3",
      "display_name": "Python 3"
    },
    "language_info": {
      "name": "python"
    }
  },
  "cells": [
    {
      "cell_type": "markdown",
      "metadata": {
        "id": "view-in-github",
        "colab_type": "text"
      },
      "source": [
        "<a href=\"https://colab.research.google.com/github/akbarehsani/backsample2/blob/master/multi_processing_NN.ipynb\" target=\"_parent\"><img src=\"https://colab.research.google.com/assets/colab-badge.svg\" alt=\"Open In Colab\"/></a>"
      ]
    },
    {
      "cell_type": "code",
      "execution_count": null,
      "metadata": {
        "id": "y26Jz3xUFr83",
        "outputId": "f63e106d-7dd3-4d58-fce0-279c7e8aec35",
        "colab": {
          "base_uri": "https://localhost:8080/",
          "height": 217
        }
      },
      "outputs": [
        {
          "output_type": "stream",
          "name": "stderr",
          "text": [
            "usage: ipykernel_launcher.py [--batch_size BATCH_SIZE] [--loops LOOPS]\n",
            "                             [--num_threads NUM_THREADS] [--mp] [--hog]\n",
            "                             [--hog_count HOG_COUNT]\n",
            "ipykernel_launcher.py: error: unrecognized arguments: -f /root/.local/share/jupyter/runtime/kernel-d59223ba-8c51-40ae-b5f3-1b5c8f5b9448.json\n"
          ]
        },
        {
          "output_type": "error",
          "ename": "SystemExit",
          "evalue": "ignored",
          "traceback": [
            "An exception has occurred, use %tb to see the full traceback.\n",
            "\u001b[0;31mSystemExit\u001b[0m\u001b[0;31m:\u001b[0m 2\n"
          ]
        },
        {
          "output_type": "stream",
          "name": "stderr",
          "text": [
            "/usr/local/lib/python3.7/dist-packages/IPython/core/interactiveshell.py:3334: UserWarning: To exit: use 'exit', 'quit', or Ctrl-D.\n",
            "  warn(\"To exit: use 'exit', 'quit', or Ctrl-D.\", stacklevel=1)\n"
          ]
        }
      ],
      "source": [
        "import argparse\n",
        "\n",
        "import multiprocessing as mp\n",
        "import sys\n",
        "import threading\n",
        "import time\n",
        "import torch\n",
        "import torch.nn as nn\n",
        "import torch.optim as optim\n",
        "import torchvision\n",
        "\n",
        "\n",
        "def model_loop_fn(index, args):\n",
        "  print('Thread {} started'.format(index))\n",
        "  start_time = time.time()\n",
        "  data = torch.randn(args.batch_size, 3, 224, 224)\n",
        "  target = torch.zeros(args.batch_size, dtype=torch.int64)\n",
        "  model = torchvision.models.resnet18()\n",
        "  loss_fn = nn.NLLLoss()\n",
        "  optimizer = optim.SGD(model.parameters(), lr=0.01, momentum=0.5)\n",
        "  for i in range(0, args.loops):\n",
        "    optimizer.zero_grad()\n",
        "    output = model(data)\n",
        "    loss = loss_fn(output, target)\n",
        "    loss.backward()\n",
        "    optimizer.step()\n",
        "  print('Thread {} took {:.3f}ms'.format(index,\n",
        "                                         1000.0 * (time.time() - start_time)))\n",
        "\n",
        "\n",
        "def hog_loop_fn(index, args):\n",
        "  print('Thread {} started'.format(index))\n",
        "  start_time = time.time()\n",
        "  for i in range(0, args.loops):\n",
        "    x = args.hog_count\n",
        "    while x > 0:\n",
        "      x -= 1\n",
        "  print('Thread {} took {:.3f}ms'.format(index,\n",
        "                                         1000.0 * (time.time() - start_time)))\n",
        "\n",
        "\n",
        "def bench_resnet(args):\n",
        "  loop_fn = hog_loop_fn if args.hog else model_loop_fn\n",
        "  threads = []\n",
        "  for i in range(0, args.num_threads):\n",
        "    if args.mp:\n",
        "      thread = mp.Process(target=loop_fn, args=(i, args,))\n",
        "    else:\n",
        "      thread = threading.Thread(target=loop_fn, args=(i, args,))\n",
        "    thread.daemon = True\n",
        "    threads.append(thread)\n",
        "    thread.start()\n",
        "  for thread in threads:\n",
        "    thread.join()\n",
        "\n",
        "\n",
        "if __name__ == '__main__':\n",
        "  parser = argparse.ArgumentParser(add_help=False)\n",
        "  parser.add_argument('--batch_size', type=int, default=4)\n",
        "  parser.add_argument('--loops', type=int, default=10)\n",
        "  parser.add_argument('--num_threads', type=int, default=1)\n",
        "  parser.add_argument('--mp', action='store_true')\n",
        "  parser.add_argument('--hog', action='store_true')\n",
        "  parser.add_argument('--hog_count', type=int, default=10000000)\n",
        "  args = parser.parse_args()\n",
        "\n",
        "  bench_resnet(args)"
      ]
    }
  ]
}