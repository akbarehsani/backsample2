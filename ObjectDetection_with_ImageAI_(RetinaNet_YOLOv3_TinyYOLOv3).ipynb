{
  "nbformat": 4,
  "nbformat_minor": 0,
  "metadata": {
    "colab": {
      "provenance": [],
      "include_colab_link": true
    },
    "kernelspec": {
      "name": "python3",
      "display_name": "Python 3"
    },
    "accelerator": "GPU"
  },
  "cells": [
    {
      "cell_type": "markdown",
      "metadata": {
        "id": "view-in-github",
        "colab_type": "text"
      },
      "source": [
        "<a href=\"https://colab.research.google.com/github/akbarehsani/backsample2/blob/master/ObjectDetection_with_ImageAI_(RetinaNet_YOLOv3_TinyYOLOv3).ipynb\" target=\"_parent\"><img src=\"https://colab.research.google.com/assets/colab-badge.svg\" alt=\"Open In Colab\"/></a>"
      ]
    },
    {
      "cell_type": "markdown",
      "metadata": {
        "id": "FveKjvz5P79U"
      },
      "source": [
        "#ObjectDetection with ImageAI \n",
        "## Install ImageAI\n",
        "\n",
        "[Object Detection with 10 lines of code](https://towardsdatascience.com/object-detection-with-10-lines-of-code-d6cb4d86f606)\n",
        "\n",
        "[Document](https://imageai.readthedocs.io/en/latest/)"
      ]
    },
    {
      "cell_type": "code",
      "metadata": {
        "id": "p-5bNweJNi53"
      },
      "source": [
        "!pip3 install https://github.com/OlafenwaMoses/ImageAI/releases/download/2.0.2/imageai-2.0.2-py3-none-any.whl"
      ],
      "execution_count": null,
      "outputs": []
    },
    {
      "cell_type": "markdown",
      "metadata": {
        "id": "2xoXuAMbQAEQ"
      },
      "source": [
        "## Download model (RetinaNet YOLOv3 TinyYOLOv3)"
      ]
    },
    {
      "cell_type": "code",
      "metadata": {
        "id": "lOHS0FMhN4Hy"
      },
      "source": [
        "!wget https://github.com/OlafenwaMoses/ImageAI/releases/download/1.0/resnet50_coco_best_v2.0.1.h5\n",
        "!wget https://github.com/OlafenwaMoses/ImageAI/releases/download/1.0/yolo.h5\n",
        "!wget https://github.com/OlafenwaMoses/ImageAI/releases/download/1.0/yolo-tiny.h5"
      ],
      "execution_count": null,
      "outputs": []
    },
    {
      "cell_type": "markdown",
      "metadata": {
        "id": "SApGx128QFBv"
      },
      "source": [
        "## Download sample image(dog.jpg)"
      ]
    },
    {
      "cell_type": "code",
      "metadata": {
        "id": "KWjy5yopPJf8"
      },
      "source": [
        "! wget https://blog.keras.io/img/simple-keras-rest-api/dog.jpg \n",
        "!ls"
      ],
      "execution_count": null,
      "outputs": []
    },
    {
      "cell_type": "code",
      "metadata": {
        "id": "_gfXpwB1Qngi"
      },
      "source": [
        "from PIL import Image \n",
        "Image.open(\"dog.jpg\")"
      ],
      "execution_count": null,
      "outputs": []
    },
    {
      "cell_type": "markdown",
      "metadata": {
        "id": "yqUVTke7V-Vd"
      },
      "source": [
        "## Object Detection with ImageAI(RetinaNet)"
      ]
    },
    {
      "cell_type": "code",
      "metadata": {
        "id": "vc3Zml1_V9X3"
      },
      "source": [
        "from imageai.Detection import ObjectDetection\n",
        "import os\n",
        "import time\n",
        "\n",
        "execution_path = os.getcwd()\n",
        "\n",
        "retina = ObjectDetection()\n",
        "retina.setModelTypeAsRetinaNet()\n",
        "retina.setModelPath( os.path.join(execution_path , \"resnet50_coco_best_v2.0.1.h5\"))\n",
        "retina.loadModel()"
      ],
      "execution_count": null,
      "outputs": []
    },
    {
      "cell_type": "code",
      "metadata": {
        "id": "SiDuLzSzWhZm"
      },
      "source": [
        "start = time.time()\n",
        "detections = retina.detectObjectsFromImage(input_image=os.path.join(execution_path , \"dog.jpg\"), output_image_path=os.path.join(execution_path , \"imagenew.jpg\"))\n",
        "print('sec',time.time() - start)\n",
        "for eachObject in detections:\n",
        "    print(eachObject[\"name\"] , \" : \" , eachObject[\"percentage_probability\"] )\n",
        "Image.open(\"imagenew.jpg\")\n"
      ],
      "execution_count": null,
      "outputs": []
    },
    {
      "cell_type": "markdown",
      "metadata": {
        "id": "oM6ZsAITQOYI"
      },
      "source": [
        "## Object Detection with ImageAI(YOLOv3)"
      ]
    },
    {
      "cell_type": "code",
      "metadata": {
        "id": "Y44FqVoLNl7j"
      },
      "source": [
        "yolo = ObjectDetection()\n",
        "yolo.setModelTypeAsYOLOv3()\n",
        "yolo.setModelPath( os.path.join(execution_path , \"yolo.h5\"))\n",
        "yolo.loadModel()"
      ],
      "execution_count": null,
      "outputs": []
    },
    {
      "cell_type": "code",
      "metadata": {
        "id": "JdNJLPH6NsgY"
      },
      "source": [
        "start = time.time()\n",
        "detections = yolo.detectObjectsFromImage(input_image=os.path.join(execution_path , \"dog.jpg\"), output_image_path=os.path.join(execution_path , \"imagenew.jpg\"))\n",
        "print('sec',time.time() - start)\n",
        "for eachObject in detections:\n",
        "    print(eachObject[\"name\"] , \" : \" , eachObject[\"percentage_probability\"] )\n",
        "Image.open(\"imagenew.jpg\")\n"
      ],
      "execution_count": null,
      "outputs": []
    },
    {
      "cell_type": "markdown",
      "metadata": {
        "id": "gEqSq8BFWreh"
      },
      "source": [
        "## Object Detection with ImageAI(TinyYOLOv3)"
      ]
    },
    {
      "cell_type": "code",
      "metadata": {
        "id": "mdNf-asbVV3X"
      },
      "source": [
        "tiny = ObjectDetection()\n",
        "tiny.setModelTypeAsTinyYOLOv3()\n",
        "tiny.setModelPath( os.path.join(execution_path , \"yolo-tiny.h5\"))\n",
        "tiny.loadModel()"
      ],
      "execution_count": null,
      "outputs": []
    },
    {
      "cell_type": "code",
      "metadata": {
        "id": "UUMxmfZyWwnj"
      },
      "source": [
        "start = time.time()\n",
        "detections = tiny.detectObjectsFromImage(input_image=os.path.join(execution_path , \"dog.jpg\"), output_image_path=os.path.join(execution_path , \"imagenew.jpg\"))\n",
        "print('sec',time.time() - start)\n",
        "\n",
        "for eachObject in detections:\n",
        "    print(eachObject[\"name\"] , \" : \" , eachObject[\"percentage_probability\"] )\n",
        "Image.open(\"imagenew.jpg\")\n"
      ],
      "execution_count": null,
      "outputs": []
    },
    {
      "cell_type": "code",
      "metadata": {
        "id": "lQLdqbsRYgH4"
      },
      "source": [],
      "execution_count": null,
      "outputs": []
    }
  ]
}