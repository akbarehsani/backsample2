{
  "nbformat": 4,
  "nbformat_minor": 0,
  "metadata": {
    "colab": {
      "provenance": [],
      "authorship_tag": "ABX9TyNRuIohOuqgFyb0qHePY8fN",
      "include_colab_link": true
    },
    "kernelspec": {
      "name": "python3",
      "display_name": "Python 3"
    },
    "language_info": {
      "name": "python"
    }
  },
  "cells": [
    {
      "cell_type": "markdown",
      "metadata": {
        "id": "view-in-github",
        "colab_type": "text"
      },
      "source": [
        "<a href=\"https://colab.research.google.com/github/akbarehsani/backsample2/blob/master/simple_neural_network.ipynb\" target=\"_parent\"><img src=\"https://colab.research.google.com/assets/colab-badge.svg\" alt=\"Open In Colab\"/></a>"
      ]
    },
    {
      "cell_type": "code",
      "source": [
        "import numpy as np\n",
        "import pandas as pd\n",
        "import tensorflow as tf\n",
        "from tensorflow.keras.models import Sequential\n",
        "from tensorflow.keras.layers import Dense\n",
        "from tensorflow.keras.optimizers import Adam\n",
        "from sklearn.utils import shuffle\n",
        "from sklearn.preprocessing import MinMaxScaler\n",
        "tf.random.set_seed(0)\n",
        "\n",
        "# import the data\n",
        "df = pd.read_csv('creditcard.csv')\n",
        "\n",
        "# extract the features and target\n",
        "X = df.drop(labels=['Class'], axis=1).values\n",
        "y = df['Class'].values\n",
        "\n",
        "# count the number of classes\n",
        "print(np.unique(y))\n",
        "# [0 1]\n",
        "\n",
        "# shuffle the data\n",
        "X, y = shuffle(X, y, random_state=42)\n",
        "\n",
        "# scale the features\n",
        "scaler = MinMaxScaler(feature_range=(0, 1))\n",
        "X = scaler.fit_transform(X)\n",
        "\n",
        "# build the model\n",
        "model = Sequential([\n",
        "    Dense(units=16, activation='relu', input_shape=(X.shape[1], )),\n",
        "    Dense(units=32, activation='relu'),\n",
        "    Dense(units=1, activation='sigmoid')\n",
        "])\n",
        "\n",
        "# fit the model\n",
        "model.compile(optimizer=Adam(learning_rate=0.0001), loss='binary_crossentropy', metrics=['accuracy'])\n",
        "model.fit(x=X, y=y, validation_split=0.1, batch_size=256, epochs=3)"
      ],
      "metadata": {
        "id": "uFMsOqjIm43c"
      },
      "execution_count": null,
      "outputs": []
    }
  ]
}