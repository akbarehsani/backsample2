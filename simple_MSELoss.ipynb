{
  "nbformat": 4,
  "nbformat_minor": 0,
  "metadata": {
    "colab": {
      "provenance": [],
      "authorship_tag": "ABX9TyNC7vNdc3dj9b80NKkNUnXG",
      "include_colab_link": true
    },
    "kernelspec": {
      "name": "python3",
      "display_name": "Python 3"
    },
    "language_info": {
      "name": "python"
    }
  },
  "cells": [
    {
      "cell_type": "markdown",
      "metadata": {
        "id": "view-in-github",
        "colab_type": "text"
      },
      "source": [
        "<a href=\"https://colab.research.google.com/github/akbarehsani/backsample2/blob/master/simple_MSELoss.ipynb\" target=\"_parent\"><img src=\"https://colab.research.google.com/assets/colab-badge.svg\" alt=\"Open In Colab\"/></a>"
      ]
    },
    {
      "cell_type": "code",
      "execution_count": null,
      "metadata": {
        "colab": {
          "base_uri": "https://localhost:8080/"
        },
        "id": "re9i8HtJxsXg",
        "outputId": "eea07ead-9fd1-4e06-a7c6-7dc5250d4a68"
      },
      "outputs": [
        {
          "output_type": "stream",
          "name": "stdout",
          "text": [
            "input: tensor([[-1.4718, -0.4175, -0.1482, -1.3139,  0.1293],\n",
            "        [-1.4241, -0.2017,  1.9219,  0.0087,  0.5950],\n",
            "        [-0.0602, -0.4932, -1.6611,  0.1326,  0.1202]], requires_grad=True) target: tensor([[-0.2991,  0.2429, -0.0782,  1.2150, -0.0792],\n",
            "        [-2.1387,  1.0048,  0.0219, -0.1595, -1.5851],\n",
            "        [-0.5422,  0.9977,  0.0524,  1.7704,  0.5264]])\n",
            "tensor(1.7900, grad_fn=<MseLossBackward0>)\n"
          ]
        }
      ],
      "source": [
        "import torch\n",
        "import torch.nn as nn\n",
        "input=torch.randn(3,5,requires_grad=True)\n",
        "target=torch.randn(3,5)\n",
        "loss=nn.MSELoss()\n",
        "r= loss(input,target)\n",
        "print('input:',input,'target:',target)\n",
        "print(r)\n",
        "\n"
      ]
    }
  ]
}